{
  "cells": [
    {
      "cell_type": "markdown",
      "metadata": {
        "id": "7W2dAmlIEMXj"
      },
      "source": [
        "# Genetic Algorithm Pseudo code:\n",
        "\n"
      ]
    },
    {
      "cell_type": "markdown",
      "metadata": {
        "id": "gdQcmGl0_jvc"
      },
      "source": [
        "**function** GENETIC-ALGORITHM( population, FITNESS-FN) **returns** an individual \n",
        " \n",
        "> **inputs:** population- a set of individuals/chromosomes; FITNESS-FN- a function that measures the fitness of an individual\n",
        "\n",
        ">**repeat** \n",
        "new_population $\\leftarrow$ empty set \n",
        ">>**for** $i=1$ **to** size ($ population$) **do**\n",
        "$$\n",
        "\\begin{array}{l}\n",
        "x \\leftarrow \\text { RANDOM-SELECTION }(\\text { population, FITNESS-FN }) \\\\\n",
        "y \\leftarrow \\text { RANDOM-SELECTION }(\\text { population, FITNESS-FN }) \\\\\n",
        "child  \\leftarrow \\operatorname{CROSSOVER}(x, y)\n",
        "\\end{array}\n",
        "$$\n",
        ">>>**if** (some_random_number < mutation_threshold) **then** child$\\leftarrow$ MUTATE ( child ) \n",
        "\n",
        ">>>add child to new_population \n",
        "\n",
        ">>population $\\leftarrow$ new_population \n",
        "\n",
        ">**until** some individual is fit enough, or enough time has elapsed\n",
        "\n",
        ">**return** the best individual in population, according to FITNESS-FN\n",
        " \n"
      ]
    },
    {
      "cell_type": "markdown",
      "metadata": {
        "id": "Z86D3OcTgZAN"
      },
      "source": [
        "### Importing libraries"
      ]
    },
    {
      "cell_type": "code",
      "execution_count": 2,
      "metadata": {
        "id": "DVUZn7mX25Zj"
      },
      "outputs": [],
      "source": [
        "import numpy as np\n",
        "import random as rd"
      ]
    },
    {
      "cell_type": "markdown",
      "metadata": {
        "id": "FrkwKxS0gUV5"
      },
      "source": [
        "### Fitness function"
      ]
    },
    {
      "cell_type": "code",
      "execution_count": 3,
      "metadata": {
        "id": "CGWWuBT820Uo"
      },
      "outputs": [],
      "source": [
        "def fitness(population, m):\n",
        "   fit = [-1] * len(population)\n",
        "   for l in range(len(population)):\n",
        "      list1 = population[l].tolist()\n",
        "      horizontal = sum([list1.count(k)-1 for k in list1])/2\n",
        "      diagonal = 0\n",
        "      for i, col in enumerate(list1):\n",
        "         for j, d in enumerate(list1):\n",
        "            mod = abs(i-j)\n",
        "            if mod > 0:\n",
        "               if d + mod == col or d - mod == col:\n",
        "                  diagonal += 1\n",
        "      diagonal /= 2\n",
        "      fit[l] = int(m - (horizontal + diagonal))\n",
        "   return fit\n",
        "# p = [[4, 4, 4, 3, 1, 6, 1, 3],\n",
        "#  [7, 3, 1, 3, 3, 6, 0, 6,],\n",
        "#  [6, 7, 2, 3, 2, 3, 5, 6],\n",
        "#  [0, 2, 4, 7, 6, 6, 7, 3],\n",
        "#  [7, 2, 6, 4, 7, 0, 6, 2]]\n",
        "# a = 0\n",
        "# fitness(p, a)\n",
        "   # print(type(fit))"
      ]
    },
    {
      "cell_type": "markdown",
      "metadata": {
        "id": "F-5xhfamezBP"
      },
      "source": [
        "### Random Selection function\n",
        "\n",
        "This built-in function might help to create the weighted random selection:\n",
        "\n",
        "`numpy.random.choice(a, size, replace, p)` \n",
        "\n",
        "`p` are the weights of the individuals- value between 0 and 1; refers to the probability of each individual being selected.\n",
        "\n",
        "`a` is the array\n",
        "\n",
        "`size` how many samples to return\n",
        "\n",
        "`replace = True`"
      ]
    },
    {
      "cell_type": "code",
      "execution_count": 4,
      "metadata": {
        "id": "mCgercZ4_DQ8"
      },
      "outputs": [],
      "source": [
        "def select(population, fit):\n",
        "  total = sum(fit)\n",
        "  p = [] # probability\n",
        "  i = [] # index for population\n",
        "  for j in range(len(fit)):\n",
        "    p.append(fit[j]/total)\n",
        "    i.append(j)\n",
        "  b = np.random.choice(i, 1, True, p) # choosing index for population from i by weight of p\n",
        "  return population[b]\n",
        "\n",
        "  # print(b)\n",
        "  \n",
        "  # size = 1\n",
        "  # p = [.31, .29, 0.26, 0.14]\n",
        "  # a = np.random.choice(a, size, True, p)\n",
        "  # print(a)\n",
        "  # print(population)\n",
        "  # print(population[b])\n",
        "  # print(population[b][0])\n",
        "  \n",
        "  # ''' take input:  population and fit\n",
        "  #     fit contains fitness values of each of the individuals \n",
        "  #     in the population  \n",
        "      \n",
        "  #     return:  one individual randomly giving\n",
        "  #     more weight to ones which have high fitness score'''\n",
        "  # random.randint(0, len(population[0]))\n",
        "  "
      ]
    },
    {
      "cell_type": "markdown",
      "metadata": {
        "id": "ysZu4DVmgshV"
      },
      "source": [
        "### Crossover function\n",
        "\n",
        "\n",
        "**function** CROSSOVER $(x, y)$ **returns** an individual \n",
        "\n",
        ">**inputs**: $x, y$  which are the parent individuals\n",
        "\n",
        ">$n \\leftarrow \\mathrm{LENGTH}(x) ; c \\leftarrow$ random number from 1 to $n$ \n",
        "\n",
        ">**return** APPEND(SUBSTRING $(x, 1, c),$ SUBSTRING $(y, c+1, n))$"
      ]
    },
    {
      "cell_type": "code",
      "execution_count": 5,
      "metadata": {
        "id": "ZtmoFQ9ugwN_"
      },
      "outputs": [],
      "source": [
        "def crossover(x, y):\n",
        "   r = rd.randint(0, len(x)-1) # using a random index to split x and y\n",
        "   n = []\n",
        "   for i in range(0, r):\n",
        "      n.append(x[i])\n",
        "   for i in range(r, len(y)):\n",
        "      n.append(y[i])\n",
        "   return np.array(n)\n",
        "\n",
        "   # print(r)\n",
        "   # print(len(x))\n",
        "   # print(x)\n",
        "   # print(y)\n",
        "      # print(y[i])\n",
        "   # print(np.array(n))\n",
        "      # print(x[i])\n"
      ]
    },
    {
      "cell_type": "markdown",
      "metadata": {
        "id": "RJJuuGbyxzho"
      },
      "source": [
        "### Mutation function"
      ]
    },
    {
      "cell_type": "code",
      "execution_count": 6,
      "metadata": {
        "id": "zRIG9DXmxzFw"
      },
      "outputs": [],
      "source": [
        "def mutate(child, n):\n",
        "   r = rd.randint(0, n-1)\n",
        "   i = rd.randrange(0, len(child)-1)\n",
        "   child[i] = r\n",
        "   return child\n",
        "\n",
        "   # print(child)\n",
        "   # print(r)\n",
        "   # print(i)\n",
        "   # print(child)\n"
      ]
    },
    {
      "cell_type": "markdown",
      "metadata": {
        "id": "yOPop-7n5WYL"
      },
      "source": [
        "### Genetic Algorithm Function"
      ]
    },
    {
      "cell_type": "code",
      "execution_count": 7,
      "metadata": {
        "id": "uw2sfb9nW_yo"
      },
      "outputs": [],
      "source": [
        "def GA(population, n_board, mutation_threshold = 0.3):\n",
        "   n_max = 1000000 # maximum number of searches\n",
        "   n = n_max\n",
        "   max_fitness = int(((len(population[0])) * (len(population[0])-1))/2)\n",
        "   f = fitness(population, max_fitness)\n",
        "   while n > 0:\n",
        "      new_population = []\n",
        "      for i in range(len(population)):\n",
        "         x = select(population, f)[0]\n",
        "         y = select(population, f)[0]\n",
        "         child = crossover(x, y)\n",
        "         r = rd.randint(0, 1)\n",
        "         if r < mutation_threshold:\n",
        "            child = mutate(child, n_board)\n",
        "         f_child = fitness([child], max_fitness)[0]\n",
        "         if f_child == max_fitness:\n",
        "            print('Found best position of Queens:', str(child) + ', after', n_max-n, 'searches.')\n",
        "            n = -1\n",
        "            return\n",
        "         new_population.append(child)\n",
        "         n -= 1\n",
        "      population = np.array(new_population)\n",
        "   print('No position found after', n_max, 'searches.')\n",
        "   return\n",
        "\n",
        "   # print('Maximum Fitness Value:', max_fitness)\n",
        "   # print(f)\n",
        "         # print(x)\n",
        "         # return\n",
        "         # print(len(child))"
      ]
    },
    {
      "cell_type": "markdown",
      "metadata": {
        "id": "cHKgDnDKb8mh"
      },
      "source": [
        "### Running the Genetic Algorithm function"
      ]
    },
    {
      "cell_type": "code",
      "execution_count": 8,
      "metadata": {
        "id": "01Pz8Q_Jb7qE",
        "tags": []
      },
      "outputs": [
        {
          "name": "stdout",
          "output_type": "stream",
          "text": [
            "Found best position of Queens: [3 6 4 1 5 0 2 7], after 57333 searches.\n"
          ]
        }
      ],
      "source": [
        "n = 8\n",
        "start_population = 10 \n",
        "mutation_threshold = 0.3\n",
        "population = np.random.randint(0, n, (start_population, n))\n",
        "# print(population)\n",
        "# print('Randomly chosen population:\\n', population)\n",
        "GA(population, n, mutation_threshold)"
      ]
    }
  ],
  "metadata": {
    "colab": {
      "collapsed_sections": [],
      "name": "Genetic_Algorithm_Skeleton_Code_Student.ipynb",
      "provenance": []
    },
    "interpreter": {
      "hash": "e885cd74143ad494932267455ab53278514454996393c47fe6c2589217b9edf3"
    },
    "kernelspec": {
      "display_name": "Python 3.9.4 64-bit",
      "name": "python3"
    },
    "language_info": {
      "codemirror_mode": {
        "name": "ipython",
        "version": 3
      },
      "file_extension": ".py",
      "mimetype": "text/x-python",
      "name": "python",
      "nbconvert_exporter": "python",
      "pygments_lexer": "ipython3",
      "version": "3.10.6"
    }
  },
  "nbformat": 4,
  "nbformat_minor": 2
}
