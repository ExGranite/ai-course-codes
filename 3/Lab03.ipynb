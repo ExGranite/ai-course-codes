{
 "metadata": {
  "language_info": {
   "codemirror_mode": {
    "name": "ipython",
    "version": 3
   },
   "file_extension": ".py",
   "mimetype": "text/x-python",
   "name": "python",
   "nbconvert_exporter": "python",
   "pygments_lexer": "ipython3",
   "version": "3.9.4"
  },
  "orig_nbformat": 4,
  "kernelspec": {
   "name": "python3",
   "display_name": "Python 3.9.4 64-bit"
  },
  "interpreter": {
   "hash": "e885cd74143ad494932267455ab53278514454996393c47fe6c2589217b9edf3"
  }
 },
 "nbformat": 4,
 "nbformat_minor": 2,
 "cells": [
  {
   "cell_type": "markdown",
   "source": [
    "### Importing Libraries"
   ],
   "metadata": {}
  },
  {
   "cell_type": "code",
   "execution_count": 1,
   "source": [
    "import random\r\n",
    "import math"
   ],
   "outputs": [],
   "metadata": {}
  },
  {
   "cell_type": "markdown",
   "source": [
    "### Min-Max Algorithm Function"
   ],
   "metadata": {}
  },
  {
   "cell_type": "code",
   "execution_count": 2,
   "source": [
    "def minmax_algorithm(depth, position, max_depth, branch, alpha, beta, leaf_value, visited, maximizing):\r\n",
    "    if depth == max_depth:\r\n",
    "        visited[position] = True\r\n",
    "        return leaf_value[position]\r\n",
    "    if maximizing:\r\n",
    "        max_v = -math.inf\r\n",
    "        for i in range(branch):\r\n",
    "            child_position = position * 2 + i\r\n",
    "            v = minmax_algorithm(depth + 1, child_position, max_depth, branch, alpha, beta, leaf_value, visited, False)\r\n",
    "            max_v = max(max_v, v)\r\n",
    "            alpha = max(alpha, max_v)\r\n",
    "            if beta <= alpha:\r\n",
    "                break\r\n",
    "        return max_v\r\n",
    "    else:\r\n",
    "        min_v = math.inf\r\n",
    "        for i in range(branch):\r\n",
    "            child_position = position * 2 + i\r\n",
    "            v = minmax_algorithm(depth + 1, child_position, max_depth, branch, alpha, beta, leaf_value, visited, True)\r\n",
    "            min_v = min(min_v, v)\r\n",
    "            beta = min(beta, min_v)\r\n",
    "            if beta <= alpha:\r\n",
    "                break\r\n",
    "        return min_v"
   ],
   "outputs": [],
   "metadata": {}
  },
  {
   "cell_type": "markdown",
   "source": [
    "### Running The Min-Max Algorithm Function"
   ],
   "metadata": {}
  },
  {
   "cell_type": "code",
   "execution_count": 4,
   "source": [
    "chances = int(input('Number of chances per person:'))\r\n",
    "branch = int(input('Number of choices each round: '))\r\n",
    "min_value = int(input('Minimum range for notes: '))\r\n",
    "max_value = int(input('Maximum range for notes: '))\r\n",
    "\r\n",
    "max_depth = chances * 2\r\n",
    "leaf_nodes = pow(branch, max_depth)\r\n",
    "leaf_value = [-1] * leaf_nodes\r\n",
    "visited = [False] * leaf_nodes\r\n",
    "for i in range(leaf_nodes):\r\n",
    "    r = random.randint(min_value, max_value)\r\n",
    "    leaf_value[i] = r\r\n",
    "\r\n",
    "max_amount = minmax_algorithm(0, 0, max_depth, branch, -math.inf, math.inf, leaf_value, visited, True)\r\n",
    "\r\n",
    "count = 0\r\n",
    "for i in range(leaf_nodes):\r\n",
    "    if visited[i]:\r\n",
    "        count += 1\r\n",
    "\r\n",
    "print('Depth:', max_depth )\r\n",
    "print('Branch:', branch)\r\n",
    "print('Terminal States (Leaf Nodes):', leaf_nodes)\r\n",
    "print('Maximum Amount:', max_amount)\r\n",
    "print('Comparisons (Before):', leaf_nodes)\r\n",
    "print('Comparisons (After):', count)"
   ],
   "outputs": [
    {
     "output_type": "stream",
     "name": "stdout",
     "text": [
      "Depth: 2\n",
      "Branch: 3\n",
      "Terminal States (Leaf Nodes): 9\n",
      "Maximum Amount: 16\n",
      "Comparisons (Before): 9\n",
      "Comparisons (After): 7\n"
     ]
    }
   ],
   "metadata": {}
  }
 ]
}