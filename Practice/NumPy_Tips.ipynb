{
  "cells": [
    {
      "cell_type": "markdown",
      "metadata": {
        "id": "-ouTQct3OsGT"
      },
      "source": [
        "Numpy"
      ]
    },
    {
      "cell_type": "markdown",
      "metadata": {
        "id": "e2LfL3dbMla1"
      },
      "source": [
        "\n",
        "NumPy is a python library that provides you with an array data structure that holds some benefits over Python lists, such as: being more compact, faster access in reading and writing items, being more convenient and more efficient.\n",
        "\n",
        "In other words, NumPy is a very important core library for scientific computing in Python. It contains a collection of tools and techniques that can be used to solve computational mathematical problems in Science and Engineering. One of these tools is a high-performance multidimensional array object that is a powerful data structure for efficient computation of arrays and matrices.\n",
        "\n",
        "We will see NumPy in action with different examples.\n",
        "\n",
        "\n"
      ]
    },
    {
      "cell_type": "markdown",
      "metadata": {
        "id": "plC5ifglYvEA"
      },
      "source": [
        "#Creating a normal List\n",
        "\n",
        "> \n",
        "\n",
        "\n"
      ]
    },
    {
      "cell_type": "code",
      "execution_count": 1,
      "metadata": {
        "colab": {
          "base_uri": "https://localhost:8080/"
        },
        "id": "IfsxOCGaX9W_",
        "outputId": "a7008f6d-9ae7-449a-a4f1-6b1a569cc7e3"
      },
      "outputs": [
        {
          "data": {
            "text/plain": [
              "[1, 2, 3]"
            ]
          },
          "execution_count": 1,
          "metadata": {},
          "output_type": "execute_result"
        }
      ],
      "source": [
        "my_list=[1,2,3]\n",
        "my_list \n"
      ]
    },
    {
      "cell_type": "markdown",
      "metadata": {
        "id": "vTinDa-MYinj"
      },
      "source": [
        "#Casting a normal python list into a NumPy array"
      ]
    },
    {
      "cell_type": "markdown",
      "metadata": {
        "id": "9aef7Ml2PxTB"
      },
      "source": [
        "NumPy library follows an import convention: when you import this library, you have to make sure that you import it as **np**. By doing this, you’ll make sure that other Pythonistas understand your code more easily."
      ]
    },
    {
      "cell_type": "code",
      "execution_count": 3,
      "metadata": {
        "id": "GhbZaAJeYA_x"
      },
      "outputs": [
        {
          "data": {
            "text/plain": [
              "array([1, 2, 3])"
            ]
          },
          "execution_count": 3,
          "metadata": {},
          "output_type": "execute_result"
        }
      ],
      "source": [
        "import numpy as np\n",
        "a=np.array(my_list)\n",
        "a\n"
      ]
    },
    {
      "cell_type": "code",
      "execution_count": 4,
      "metadata": {
        "id": "Vd6YJsXVNS76"
      },
      "outputs": [
        {
          "data": {
            "text/plain": [
              "array([[ 1,  2,  3],\n",
              "       [ 4,  5,  6],\n",
              "       [ 7,  8,  9],\n",
              "       [10, 11, 12]])"
            ]
          },
          "execution_count": 4,
          "metadata": {},
          "output_type": "execute_result"
        }
      ],
      "source": [
        "my_mat=[[1,2,3],[4,5,6],[7,8,9],[10,11,12]]\n",
        "s=np.array(my_mat)\n",
        "s"
      ]
    },
    {
      "cell_type": "markdown",
      "metadata": {
        "id": "Hvx0mezwVr1F"
      },
      "source": [
        "#NumPy own genatation method"
      ]
    },
    {
      "cell_type": "code",
      "execution_count": 5,
      "metadata": {
        "colab": {
          "base_uri": "https://localhost:8080/"
        },
        "id": "uANwGXbCfNKp",
        "outputId": "84605b19-436e-4817-e604-d67c6a3e48a1"
      },
      "outputs": [
        {
          "data": {
            "text/plain": [
              "array([0, 1, 2, 3, 4, 5, 6, 7, 8, 9])"
            ]
          },
          "execution_count": 5,
          "metadata": {},
          "output_type": "execute_result"
        }
      ],
      "source": [
        "np.arange(0,10)"
      ]
    },
    {
      "cell_type": "markdown",
      "metadata": {
        "id": "MxXd7hWPa2FM"
      },
      "source": [
        "#NumPy also provides many functions to create arrays:"
      ]
    },
    {
      "cell_type": "code",
      "execution_count": 6,
      "metadata": {
        "colab": {
          "base_uri": "https://localhost:8080/"
        },
        "id": "cgOg2p4da5_g",
        "outputId": "99394348-2883-49f0-fd4d-d3b1b8aa87c3"
      },
      "outputs": [
        {
          "name": "stdout",
          "output_type": "stream",
          "text": [
            "[[0. 0.]\n",
            " [0. 0.]]\n",
            "[[1. 1.]\n",
            " [1. 1.]\n",
            " [1. 1.]\n",
            " [1. 1.]]\n"
          ]
        }
      ],
      "source": [
        "import numpy as np\n",
        "\n",
        "a = np.zeros((2,2))   # Create an array of all zeros\n",
        "print(a)              # Prints \"[[ 0.  0.]\n",
        "                      #          [ 0.  0.]]\"\n",
        "\n",
        "b = np.ones((4,2))    # Create an array of all ones\n",
        "print(b)              # Prints \"[[ 1.  1.]]\""
      ]
    },
    {
      "cell_type": "code",
      "execution_count": 15,
      "metadata": {
        "colab": {
          "base_uri": "https://localhost:8080/"
        },
        "id": "5P5Yad8eagHf",
        "outputId": "9b5bde6e-4e54-446a-bdb5-0ed693960a02"
      },
      "outputs": [
        {
          "data": {
            "text/plain": [
              "array([ 0.        ,  3.66666667,  7.33333333, 11.        ])"
            ]
          },
          "execution_count": 15,
          "metadata": {},
          "output_type": "execute_result"
        }
      ],
      "source": [
        "np.linspace(0,11,4)"
      ]
    },
    {
      "cell_type": "code",
      "execution_count": 16,
      "metadata": {
        "colab": {
          "base_uri": "https://localhost:8080/"
        },
        "id": "wtUpkPXBati7",
        "outputId": "bc6eb35e-d2a9-40a8-f8d6-5467f7aa80c6"
      },
      "outputs": [
        {
          "data": {
            "text/plain": [
              "array([[1., 0., 0., 0., 0.],\n",
              "       [0., 1., 0., 0., 0.],\n",
              "       [0., 0., 1., 0., 0.],\n",
              "       [0., 0., 0., 1., 0.],\n",
              "       [0., 0., 0., 0., 1.]])"
            ]
          },
          "execution_count": 16,
          "metadata": {},
          "output_type": "execute_result"
        }
      ],
      "source": [
        "np.eye(5) #identitity matrix(2d square matrix)"
      ]
    },
    {
      "cell_type": "code",
      "execution_count": 17,
      "metadata": {
        "colab": {
          "base_uri": "https://localhost:8080/"
        },
        "id": "QTBl7q9mbARj",
        "outputId": "a3a3eb14-2c92-489d-8052-c1f697a6ea05"
      },
      "outputs": [
        {
          "data": {
            "text/plain": [
              "array([0.84245813, 0.65706034, 0.4137144 , 0.95473064, 0.34278445])"
            ]
          },
          "execution_count": 17,
          "metadata": {},
          "output_type": "execute_result"
        }
      ],
      "source": [
        "#creating arrays of random numbers\n",
        "np.random.rand(5) #uniform distribution from 0 to 1"
      ]
    },
    {
      "cell_type": "code",
      "execution_count": 18,
      "metadata": {
        "colab": {
          "base_uri": "https://localhost:8080/"
        },
        "id": "Pl5cjuNYb_tS",
        "outputId": "108515d2-45d5-43f7-838d-5f230ef7ab27"
      },
      "outputs": [
        {
          "data": {
            "text/plain": [
              "array([[0.60207394, 0.11368311, 0.67793187, 0.06045694, 0.42788625],\n",
              "       [0.06864002, 0.48781092, 0.69891924, 0.52693494, 0.51687475],\n",
              "       [0.89756393, 0.52662246, 0.21657017, 0.21455022, 0.9482768 ],\n",
              "       [0.58492608, 0.98859165, 0.27777391, 0.57113371, 0.86713192],\n",
              "       [0.77146769, 0.46839737, 0.5470961 , 0.23718543, 0.38755875]])"
            ]
          },
          "execution_count": 18,
          "metadata": {},
          "output_type": "execute_result"
        }
      ],
      "source": [
        "#creating arrays of random numbers\n",
        "np.random.rand(5,5) # 2D uniform distribute from 0 to 1"
      ]
    },
    {
      "cell_type": "code",
      "execution_count": 19,
      "metadata": {
        "colab": {
          "base_uri": "https://localhost:8080/"
        },
        "id": "7jux7WkccIgd",
        "outputId": "bdf8a066-9556-4e91-b399-2ac585e8ac69"
      },
      "outputs": [
        {
          "data": {
            "text/plain": [
              "array([-0.14892238, -0.19069922, -0.07199813,  1.26843888])"
            ]
          },
          "execution_count": 19,
          "metadata": {},
          "output_type": "execute_result"
        }
      ],
      "source": [
        "#creating arrays of random numbers\n",
        "np.random.randn(4) # standard normal distribution range from -infinty to infinity"
      ]
    },
    {
      "cell_type": "code",
      "execution_count": 25,
      "metadata": {
        "colab": {
          "base_uri": "https://localhost:8080/"
        },
        "id": "ecJwNXgXdwFH",
        "outputId": "a7da6e0c-20c5-4349-d7d2-10eaed2fd118"
      },
      "outputs": [
        {
          "data": {
            "text/plain": [
              "array([76,  5])"
            ]
          },
          "execution_count": 25,
          "metadata": {},
          "output_type": "execute_result"
        }
      ],
      "source": [
        "#creating arrays of random numbers\n",
        "np.random.randint(1,100,2)    "
      ]
    },
    {
      "cell_type": "code",
      "execution_count": 28,
      "metadata": {
        "colab": {
          "base_uri": "https://localhost:8080/"
        },
        "id": "d8yUP_oT3xrd",
        "outputId": "6c87c065-1b07-477a-aaac-8446aa4d54f0"
      },
      "outputs": [
        {
          "data": {
            "text/plain": [
              "array([7, 9, 5, 1, 0, 4])"
            ]
          },
          "execution_count": 28,
          "metadata": {},
          "output_type": "execute_result"
        }
      ],
      "source": [
        "#gives you 6 numbers randomly from 0-(10-1)\n",
        "x1 = np.random.randint(10, size=6)\n",
        "x1"
      ]
    },
    {
      "cell_type": "code",
      "execution_count": 29,
      "metadata": {
        "colab": {
          "base_uri": "https://localhost:8080/"
        },
        "id": "eoj-joau33L7",
        "outputId": "3ed30044-af8f-407b-f1f7-9d1e3022441b"
      },
      "outputs": [
        {
          "name": "stdout",
          "output_type": "stream",
          "text": [
            "[[[4 8 8]\n",
            "  [6 3 2]\n",
            "  [7 7 3]\n",
            "  [5 6 9]]\n",
            "\n",
            " [[3 2 5]\n",
            "  [2 1 9]\n",
            "  [3 3 9]\n",
            "  [1 5 4]]\n",
            "\n",
            " [[5 1 1]\n",
            "  [5 7 2]\n",
            "  [2 0 6]\n",
            "  [1 7 4]]]\n",
            "(3, 4, 3)\n",
            "Dimensiion = 3\n"
          ]
        }
      ],
      "source": [
        "x2 = np.random.randint(10, size=(3,4,3))\n",
        "print(x2)\n",
        "print(x2.shape)\n",
        "print(f\"Dimensiion = {x2.ndim}\")"
      ]
    },
    {
      "cell_type": "code",
      "execution_count": 36,
      "metadata": {
        "colab": {
          "base_uri": "https://localhost:8080/"
        },
        "id": "pHSIxk_hePZC",
        "outputId": "b6be3a10-d9e2-4291-b5c0-6a552f3be611"
      },
      "outputs": [
        {
          "name": "stdout",
          "output_type": "stream",
          "text": [
            "-34\n",
            "2131\n"
          ]
        }
      ],
      "source": [
        "#creating max and min value in array\n",
        "my_arr=np.array([1,-3,4,5,3,4,56,7,-34,22,11,2131])\n",
        "print(my_arr.min())\n",
        "print(my_arr.max())"
      ]
    },
    {
      "cell_type": "code",
      "execution_count": 31,
      "metadata": {
        "colab": {
          "base_uri": "https://localhost:8080/"
        },
        "id": "qIN6xH9If1WR",
        "outputId": "4f76d25d-0124-4d33-eae0-caa62f8be1d9"
      },
      "outputs": [
        {
          "name": "stdout",
          "output_type": "stream",
          "text": [
            "8\n",
            "6\n"
          ]
        }
      ],
      "source": [
        "#returning index number max and min value in array\n",
        "print(my_arr.argmin())\n",
        "print(my_arr.argmax())"
      ]
    },
    {
      "cell_type": "code",
      "execution_count": 32,
      "metadata": {
        "colab": {
          "base_uri": "https://localhost:8080/"
        },
        "id": "-Oc052Orhr3H",
        "outputId": "dfdc12bc-c053-460a-d8a3-c5b66c69c55a"
      },
      "outputs": [
        {
          "data": {
            "text/plain": [
              "(9,)"
            ]
          },
          "execution_count": 32,
          "metadata": {},
          "output_type": "execute_result"
        }
      ],
      "source": [
        "#how to find the shape of vector?\n",
        "my_arr.shape"
      ]
    },
    {
      "cell_type": "code",
      "execution_count": 37,
      "metadata": {
        "colab": {
          "base_uri": "https://localhost:8080/"
        },
        "id": "iLOsT8fBh5UN",
        "outputId": "23f8fe92-ed71-40e7-852d-5f4d0a47bdd2"
      },
      "outputs": [
        {
          "data": {
            "text/plain": [
              "array([[   1,   -3,    4,    5],\n",
              "       [   3,    4,   56,    7],\n",
              "       [ -34,   22,   11, 2131]])"
            ]
          },
          "execution_count": 37,
          "metadata": {},
          "output_type": "execute_result"
        }
      ],
      "source": [
        "#how to reshape vector?\n",
        "my_arr.reshape(3,4)\n"
      ]
    },
    {
      "cell_type": "code",
      "execution_count": null,
      "metadata": {
        "colab": {
          "base_uri": "https://localhost:8080/"
        },
        "id": "TIiMfZDSicbi",
        "outputId": "f83eb981-9ac0-4ba3-a0a2-389e92a9f485"
      },
      "outputs": [
        {
          "name": "stdout",
          "output_type": "stream",
          "text": [
            "<class 'numpy.ndarray'>\n",
            "int64\n"
          ]
        }
      ],
      "source": [
        "#how to know  what the data type value we have in array ?\n",
        "print(type(my_arr))\n",
        "print(my_arr.dtype)"
      ]
    },
    {
      "cell_type": "code",
      "execution_count": null,
      "metadata": {
        "colab": {
          "base_uri": "https://localhost:8080/"
        },
        "id": "iKoE0W5jjskf",
        "outputId": "0253500a-68f7-47e6-fb36-8203f8029407"
      },
      "outputs": [
        {
          "name": "stdout",
          "output_type": "stream",
          "text": [
            "[ 1  2  3  4  5  6  7  8  9 10]\n",
            "[  1   2   3   4   5   6   7   8   9  10 100  20  30]\n"
          ]
        }
      ],
      "source": [
        "#append\n",
        "import numpy as np\n",
        "new_arr=np.arange(1,11)\n",
        "print(new_arr)\n",
        "new_arr= np.append(new_arr,[100,20,30])\n",
        "print(new_arr)"
      ]
    },
    {
      "cell_type": "code",
      "execution_count": null,
      "metadata": {
        "colab": {
          "base_uri": "https://localhost:8080/"
        },
        "id": "bCISt5wt5xVR",
        "outputId": "ba39d55e-b68f-4f17-97d2-0d6872528159"
      },
      "outputs": [
        {
          "name": "stdout",
          "output_type": "stream",
          "text": [
            "[[1 2 3]\n",
            " [4 5 6]]\n",
            "[[400]\n",
            " [800]]\n",
            "[[  1   2   3 400]\n",
            " [  4   5   6 800]]\n"
          ]
        }
      ],
      "source": [
        "import numpy as np\n",
        "a = np.array([[1,2,3],[4,5,6]])\n",
        "print(a)\n",
        "b= np.array([[400],[800]])\n",
        "print(b)\n",
        "newarr = np.append(a, b,axis=1 )\n",
        "print(newarr)"
      ]
    },
    {
      "cell_type": "code",
      "execution_count": null,
      "metadata": {
        "colab": {
          "base_uri": "https://localhost:8080/"
        },
        "id": "nneWFjDu57U4",
        "outputId": "8c8774aa-a59c-44c4-ed69-6f9c2c3842b4"
      },
      "outputs": [
        {
          "name": "stdout",
          "output_type": "stream",
          "text": [
            "[  1   2   3   4   5   6 400 800]\n"
          ]
        }
      ],
      "source": [
        "import numpy as np\n",
        "a = np.array([[1,2,3],[4,5,6]])\n",
        "b= np.array([[400],[800]])\n",
        "newarr = np.append(a, b)\n",
        "print(newarr)"
      ]
    },
    {
      "cell_type": "code",
      "execution_count": null,
      "metadata": {
        "colab": {
          "base_uri": "https://localhost:8080/"
        },
        "id": "BgcZLj97jxPj",
        "outputId": "6265dedd-1b7c-4941-80c0-b7721e405137"
      },
      "outputs": [
        {
          "name": "stdout",
          "output_type": "stream",
          "text": [
            "[1 2 3]\n",
            "[ 1 50  2  3]\n"
          ]
        }
      ],
      "source": [
        "#insert\n",
        "a= np.array([1 , 2, 3])\n",
        "print( a) \n",
        "new_array= np.insert(a,1,50)\n",
        "print(new_array)"
      ]
    },
    {
      "cell_type": "code",
      "execution_count": null,
      "metadata": {
        "colab": {
          "base_uri": "https://localhost:8080/"
        },
        "id": "bqUKXsiIjurJ",
        "outputId": "6945ef37-d29a-44b5-82a5-bc9af45159ac"
      },
      "outputs": [
        {
          "name": "stdout",
          "output_type": "stream",
          "text": [
            "[[ 1  2  3]\n",
            " [ 4  5  6]\n",
            " [10 20 30]]\n",
            "[[ 1  2  3]\n",
            " [10 20 30]]\n"
          ]
        }
      ],
      "source": [
        "#delete\n",
        "import numpy as np\n",
        "a = np.array([[1,2,3],[4,5,6],[10,20,30]])\n",
        "\n",
        "print(a)\n",
        "narr = np.delete(a,1,axis=0)\n",
        "print(narr)"
      ]
    },
    {
      "cell_type": "code",
      "execution_count": null,
      "metadata": {
        "colab": {
          "base_uri": "https://localhost:8080/"
        },
        "id": "hrjLbeTe1-y1",
        "outputId": "8c61d526-5f36-473a-e75e-c839a3fcc12d"
      },
      "outputs": [
        {
          "name": "stdout",
          "output_type": "stream",
          "text": [
            "(array([3, 5]),)\n"
          ]
        }
      ],
      "source": [
        "#finding the index of a value in the array usin where() method\n",
        "a = np.array([1 , 2 ,3, 5 ,4 ,5])\n",
        "print(np.where(a==5))"
      ]
    },
    {
      "cell_type": "markdown",
      "metadata": {
        "id": "tgqWS_m72Ul2"
      },
      "source": [
        "#NumPy Indexing and Selection\n"
      ]
    },
    {
      "cell_type": "code",
      "execution_count": null,
      "metadata": {
        "colab": {
          "base_uri": "https://localhost:8080/"
        },
        "id": "okJRj-mc2RC5",
        "outputId": "c5ba4245-1e0f-4fce-bf1f-31b83b0cc13f"
      },
      "outputs": [
        {
          "name": "stdout",
          "output_type": "stream",
          "text": [
            "[[1 2 3]\n",
            " [4 5 6]\n",
            " [7 8 9]]\n"
          ]
        }
      ],
      "source": [
        "import numpy as np\n",
        "a = np.array([[1,2,3],[4,5,6],[7,8,9]])\n",
        "print(a)\n"
      ]
    },
    {
      "cell_type": "code",
      "execution_count": null,
      "metadata": {
        "colab": {
          "base_uri": "https://localhost:8080/"
        },
        "id": "8ikiVcPW6Qo4",
        "outputId": "bc1a9615-bc37-42e5-ec13-c937efbcbe1d"
      },
      "outputs": [
        {
          "data": {
            "text/plain": [
              "4"
            ]
          },
          "execution_count": 41,
          "metadata": {
            "tags": []
          },
          "output_type": "execute_result"
        }
      ],
      "source": [
        "a[1,0]"
      ]
    },
    {
      "cell_type": "code",
      "execution_count": null,
      "metadata": {
        "colab": {
          "base_uri": "https://localhost:8080/"
        },
        "id": "4QHh5Fo46kEV",
        "outputId": "e4b91275-9c50-431c-e896-f22cc37601bc"
      },
      "outputs": [
        {
          "data": {
            "text/plain": [
              "array([[5, 6],\n",
              "       [8, 9]])"
            ]
          },
          "execution_count": 42,
          "metadata": {
            "tags": []
          },
          "output_type": "execute_result"
        }
      ],
      "source": [
        "a[1:,1:]\n"
      ]
    },
    {
      "cell_type": "code",
      "execution_count": null,
      "metadata": {
        "colab": {
          "base_uri": "https://localhost:8080/"
        },
        "id": "KA17YczkUgek",
        "outputId": "3e7bb030-cc86-4e3a-e181-727f43e7218b"
      },
      "outputs": [
        {
          "data": {
            "text/plain": [
              "array([[2, 3],\n",
              "       [5, 6]])"
            ]
          },
          "execution_count": 43,
          "metadata": {
            "tags": []
          },
          "output_type": "execute_result"
        }
      ],
      "source": [
        "a[:2,1:]"
      ]
    },
    {
      "cell_type": "code",
      "execution_count": null,
      "metadata": {
        "colab": {
          "base_uri": "https://localhost:8080/"
        },
        "id": "KMDJUt-n6k48",
        "outputId": "df48a1ed-02d6-4410-ffe0-d91d046c9454"
      },
      "outputs": [
        {
          "name": "stdout",
          "output_type": "stream",
          "text": [
            "[[False False  True]\n",
            " [ True  True  True]\n",
            " [ True  True  True]]\n"
          ]
        }
      ],
      "source": [
        "#conditional selection\n",
        "b = a > 2  #take an array and combine with conditional operate to get a boolean values/arrays\n",
        "print(b)"
      ]
    },
    {
      "cell_type": "code",
      "execution_count": null,
      "metadata": {
        "colab": {
          "base_uri": "https://localhost:8080/"
        },
        "id": "wjmUWgUvVM7C",
        "outputId": "302a20ef-4e3a-48c0-f734-87750894a8a7"
      },
      "outputs": [
        {
          "data": {
            "text/plain": [
              "(7,)"
            ]
          },
          "execution_count": 45,
          "metadata": {
            "tags": []
          },
          "output_type": "execute_result"
        }
      ],
      "source": [
        "#return only those elements those were true using bollean array\n",
        "x=a[b] \n",
        "x.shape"
      ]
    },
    {
      "cell_type": "code",
      "execution_count": null,
      "metadata": {
        "colab": {
          "base_uri": "https://localhost:8080/"
        },
        "id": "YjNwNCW_WKpN",
        "outputId": "101b32bc-e387-435b-c51b-35cfffdb2e25"
      },
      "outputs": [
        {
          "data": {
            "text/plain": [
              "array([4, 5, 6, 7, 8, 9])"
            ]
          },
          "execution_count": 46,
          "metadata": {
            "tags": []
          },
          "output_type": "execute_result"
        }
      ],
      "source": [
        "#in one go!!\n",
        "a[a>3]"
      ]
    },
    {
      "cell_type": "code",
      "execution_count": null,
      "metadata": {
        "colab": {
          "base_uri": "https://localhost:8080/"
        },
        "id": "0r8-h05c6tkm",
        "outputId": "a1b13835-1e07-413c-bdb9-c956148489de"
      },
      "outputs": [
        {
          "name": "stdout",
          "output_type": "stream",
          "text": [
            "[[ 1  2  3]\n",
            " [ 4  5  6]\n",
            " [ 9 10 11]]\n"
          ]
        }
      ],
      "source": [
        "a1 = np.array([[1,2,3],[4,5,6],[9,10,11]])\n",
        "print(a1)"
      ]
    },
    {
      "cell_type": "code",
      "execution_count": null,
      "metadata": {
        "colab": {
          "base_uri": "https://localhost:8080/"
        },
        "id": "k7bP8xVi6urV",
        "outputId": "8781d7ab-87a9-43a1-8209-48021227fe43"
      },
      "outputs": [
        {
          "data": {
            "text/plain": [
              "array([[1, 1, 0],\n",
              "       [0, 0, 0],\n",
              "       [0, 0, 0]])"
            ]
          },
          "execution_count": 48,
          "metadata": {
            "tags": []
          },
          "output_type": "execute_result"
        }
      ],
      "source": [
        "\n",
        "a1[a1<=2]=1\n",
        "a1[a1>2]=0\n",
        "a1"
      ]
    },
    {
      "cell_type": "markdown",
      "metadata": {
        "id": "SMSKPX3fZvYh"
      },
      "source": [
        "#NumPy Operations"
      ]
    },
    {
      "cell_type": "code",
      "execution_count": null,
      "metadata": {
        "colab": {
          "base_uri": "https://localhost:8080/"
        },
        "id": "pu0aibECZ3LI",
        "outputId": "7a9cfdf5-6962-4b14-9041-1f90dff43f2a"
      },
      "outputs": [
        {
          "data": {
            "text/plain": [
              "array([ 0,  1,  2,  3,  4,  5,  6,  7,  8,  9, 10])"
            ]
          },
          "execution_count": 49,
          "metadata": {
            "tags": []
          },
          "output_type": "execute_result"
        }
      ],
      "source": [
        "import numpy as np\n",
        "arr=np.arange(0,11)\n",
        "arr2=np.arange(0,11)\n",
        "arr\n"
      ]
    },
    {
      "cell_type": "code",
      "execution_count": null,
      "metadata": {
        "colab": {
          "base_uri": "https://localhost:8080/"
        },
        "id": "xal_Nh8mbSxN",
        "outputId": "6fdbc04b-ed42-4e7d-b137-0c9ae3d31cc2"
      },
      "outputs": [
        {
          "data": {
            "text/plain": [
              "array([ 0,  2,  4,  6,  8, 10, 12, 14, 16, 18, 20])"
            ]
          },
          "execution_count": 50,
          "metadata": {
            "tags": []
          },
          "output_type": "execute_result"
        }
      ],
      "source": [
        "#addition\n",
        "arr+arr2"
      ]
    },
    {
      "cell_type": "code",
      "execution_count": null,
      "metadata": {
        "colab": {
          "base_uri": "https://localhost:8080/"
        },
        "id": "a-3qze30bUwZ",
        "outputId": "2ef6a168-51e4-447a-e2bd-bc1ed281775a"
      },
      "outputs": [
        {
          "data": {
            "text/plain": [
              "array([0, 0, 0, 0, 0, 0, 0, 0, 0, 0, 0])"
            ]
          },
          "execution_count": 51,
          "metadata": {
            "tags": []
          },
          "output_type": "execute_result"
        }
      ],
      "source": [
        "#substraction\n",
        "arr-arr"
      ]
    },
    {
      "cell_type": "code",
      "execution_count": null,
      "metadata": {
        "colab": {
          "base_uri": "https://localhost:8080/"
        },
        "id": "DFOaXrV1bWyg",
        "outputId": "108d0173-7793-4a8e-ddc8-421797309ffd"
      },
      "outputs": [
        {
          "data": {
            "text/plain": [
              "array([  0,   1,   4,   9,  16,  25,  36,  49,  64,  81, 100])"
            ]
          },
          "execution_count": 52,
          "metadata": {
            "tags": []
          },
          "output_type": "execute_result"
        }
      ],
      "source": [
        "#multiplication\n",
        "arr*arr"
      ]
    },
    {
      "cell_type": "code",
      "execution_count": null,
      "metadata": {
        "colab": {
          "base_uri": "https://localhost:8080/"
        },
        "id": "9QNo4sewduap",
        "outputId": "c06834eb-0cc1-4341-e435-38e86beadf2b"
      },
      "outputs": [
        {
          "name": "stderr",
          "output_type": "stream",
          "text": [
            "/usr/local/lib/python3.7/dist-packages/ipykernel_launcher.py:1: RuntimeWarning: invalid value encountered in true_divide\n",
            "  \"\"\"Entry point for launching an IPython kernel.\n"
          ]
        },
        {
          "data": {
            "text/plain": [
              "array([nan,  1.,  1.,  1.,  1.,  1.,  1.,  1.,  1.,  1.,  1.])"
            ]
          },
          "execution_count": 53,
          "metadata": {
            "tags": []
          },
          "output_type": "execute_result"
        }
      ],
      "source": [
        "arr/arr"
      ]
    },
    {
      "cell_type": "code",
      "execution_count": null,
      "metadata": {
        "colab": {
          "base_uri": "https://localhost:8080/"
        },
        "id": "18YxqoO3daa1",
        "outputId": "ddb1b817-806f-4cc2-e99c-952afa5e51ca"
      },
      "outputs": [
        {
          "data": {
            "text/plain": [
              "array([100, 101, 102, 103, 104, 105, 106, 107, 108, 109, 110])"
            ]
          },
          "execution_count": 54,
          "metadata": {
            "tags": []
          },
          "output_type": "execute_result"
        }
      ],
      "source": [
        "#scaling an array\n",
        "arr+100\n",
        "#to the power\n",
        "#squareroot\n",
        "#sin\n",
        "#log\n",
        "#max/min\n"
      ]
    },
    {
      "cell_type": "markdown",
      "metadata": {
        "id": "7Q5VIKiwDmGE"
      },
      "source": [
        "For more info: https://numpy.org/doc/stable/reference/ufuncs.html#available-ufuncs"
      ]
    },
    {
      "cell_type": "markdown",
      "metadata": {
        "id": "6etY79KWD91Y"
      },
      "source": [
        "#NumPy Official Doc: https://numpy.org/doc/stable/user/index.html"
      ]
    }
  ],
  "metadata": {
    "colab": {
      "name": "NumPy Tips",
      "provenance": []
    },
    "interpreter": {
      "hash": "e885cd74143ad494932267455ab53278514454996393c47fe6c2589217b9edf3"
    },
    "kernelspec": {
      "display_name": "Python 3.9.4 64-bit",
      "name": "python3"
    },
    "language_info": {
      "codemirror_mode": {
        "name": "ipython",
        "version": 3
      },
      "file_extension": ".py",
      "mimetype": "text/x-python",
      "name": "python",
      "nbconvert_exporter": "python",
      "pygments_lexer": "ipython3",
      "version": "3.9.4"
    }
  },
  "nbformat": 4,
  "nbformat_minor": 2
}
