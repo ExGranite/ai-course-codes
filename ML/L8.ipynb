{
 "cells": [
  {
   "cell_type": "markdown",
   "metadata": {},
   "source": [
    "## Importing Libraries"
   ]
  },
  {
   "cell_type": "code",
   "execution_count": 60,
   "metadata": {},
   "outputs": [],
   "source": [
    "import pandas as pd\n",
    "import numpy as np\n",
    "from sklearn.impute import SimpleImputer\n",
    "from sklearn.preprocessing import MinMaxScaler\n",
    "from sklearn.preprocessing import LabelEncoder\n",
    "from sklearn.model_selection import train_test_split\n",
    "from sklearn.svm import SVC\n",
    "from sklearn.neural_network import MLPClassifier\n",
    "from sklearn.ensemble import RandomForestClassifier\n",
    "from sklearn.metrics import accuracy_score\n",
    "from sklearn.decomposition import PCA\n",
    "import matplotlib.pyplot as plt"
   ]
  },
  {
   "cell_type": "markdown",
   "metadata": {},
   "source": [
    "## Data Pre Processing"
   ]
  },
  {
   "cell_type": "code",
   "execution_count": 61,
   "metadata": {},
   "outputs": [],
   "source": [
    "main_data = pd.read_csv('glass source classification dataset.csv', index_col = 'Unnamed: 0')\n",
    "impute = SimpleImputer(missing_values = np.nan, strategy = 'most_frequent')\n",
    "impute.fit(main_data[['Ca']])\n",
    "main_data['Ca'] = impute.transform(main_data[['Ca']])\n",
    "main_data['Ba'] = main_data['Ba'].map({'Does not exist':0, 'exists':1})\n",
    "main_data['Fe'] = main_data['Fe'].map({'Does not exist':0, 'exists':1})\n",
    "enc = LabelEncoder()\n",
    "main_data['Type'] = enc.fit_transform(main_data['Type'])\n",
    "label_data = main_data[['Type']]\n",
    "temp_data = main_data.drop(['Type'], axis = 1)\n",
    "scaler = MinMaxScaler()\n",
    "scaler.fit(temp_data)\n",
    "data_scaled = scaler.transform(temp_data)\n",
    "feature_data = pd.DataFrame(data = data_scaled, columns = ['RI','Na','Mg','Al','Si','K','Ca','Ba','Fe'])"
   ]
  },
  {
   "cell_type": "markdown",
   "metadata": {},
   "source": [
    "## Train Test Split"
   ]
  },
  {
   "cell_type": "code",
   "execution_count": 62,
   "metadata": {},
   "outputs": [],
   "source": [
    "x_train, x_test, y_train, y_test = train_test_split(feature_data, label_data, random_state = 1, test_size = 0.2, stratify = label_data)"
   ]
  },
  {
   "cell_type": "markdown",
   "metadata": {},
   "source": [
    "## Using Support Vector Machine (SVM)"
   ]
  },
  {
   "cell_type": "code",
   "execution_count": 64,
   "metadata": {},
   "outputs": [
    {
     "name": "stdout",
     "output_type": "stream",
     "text": [
      "Accuracy of Support Vector Machine (SVM): 81.3953488372093%\n"
     ]
    },
    {
     "name": "stderr",
     "output_type": "stream",
     "text": [
      "C:\\Users\\pc\\AppData\\Local\\Programs\\Python\\Python39\\lib\\site-packages\\sklearn\\utils\\validation.py:63: DataConversionWarning: A column-vector y was passed when a 1d array was expected. Please change the shape of y to (n_samples, ), for example using ravel().\n",
      "  return f(*args, **kwargs)\n"
     ]
    }
   ],
   "source": [
    "svc = SVC(kernel = \"linear\")\n",
    "svc.fit(x_train, y_train)\n",
    "predictions = svc.predict(x_test)\n",
    "svc_full = accuracy_score(y_test, predictions) * 100\n",
    "print(f'Accuracy of Support Vector Machine (SVM): {svc_full}%')"
   ]
  },
  {
   "cell_type": "markdown",
   "metadata": {},
   "source": [
    "## Using Neural Network (Multilayer Perceptron Classifier)"
   ]
  },
  {
   "cell_type": "code",
   "execution_count": 67,
   "metadata": {},
   "outputs": [
    {
     "name": "stderr",
     "output_type": "stream",
     "text": [
      "C:\\Users\\pc\\AppData\\Local\\Programs\\Python\\Python39\\lib\\site-packages\\sklearn\\utils\\validation.py:63: DataConversionWarning: A column-vector y was passed when a 1d array was expected. Please change the shape of y to (n_samples, ), for example using ravel().\n",
      "  return f(*args, **kwargs)\n"
     ]
    },
    {
     "name": "stdout",
     "output_type": "stream",
     "text": [
      "Accuracy of Neural Network (Multilayer Perceptron Classifier): 88.37209302325581%\n"
     ]
    }
   ],
   "source": [
    "nnc = MLPClassifier(hidden_layer_sizes = (7), activation = \"relu\", max_iter = 3000)\n",
    "nnc.fit(x_train, y_train)\n",
    "predictions = nnc.predict(x_test)\n",
    "nnc_full = accuracy_score(y_test, predictions) * 100\n",
    "print(f'Accuracy of Neural Network (Multilayer Perceptron Classifier): {nnc_full}%')"
   ]
  },
  {
   "cell_type": "markdown",
   "metadata": {},
   "source": [
    "## Using Random Forest"
   ]
  },
  {
   "cell_type": "code",
   "execution_count": 68,
   "metadata": {},
   "outputs": [
    {
     "name": "stderr",
     "output_type": "stream",
     "text": [
      "<ipython-input-68-f633103f077a>:2: DataConversionWarning: A column-vector y was passed when a 1d array was expected. Please change the shape of y to (n_samples,), for example using ravel().\n",
      "  rfc.fit(x_train, y_train)\n"
     ]
    },
    {
     "name": "stdout",
     "output_type": "stream",
     "text": [
      "Accuracy of Random Forest: 83.72093023255815%\n"
     ]
    }
   ],
   "source": [
    "rfc = RandomForestClassifier(n_estimators = 50)\n",
    "rfc.fit(x_train, y_train)\n",
    "predictions = rfc.predict(x_test)\n",
    "rfc_full = accuracy_score(y_test, predictions) * 100\n",
    "print(f'Accuracy of Random Forest: {rfc_full}%')"
   ]
  },
  {
   "cell_type": "markdown",
   "metadata": {},
   "source": [
    "## Dimensionality Reduction"
   ]
  },
  {
   "cell_type": "code",
   "execution_count": 87,
   "metadata": {},
   "outputs": [],
   "source": [
    "pca = PCA (n_components = (feature_data.shape[1]//2))\n",
    "principal_components = pca.fit_transform(feature_data)\n",
    "reduced_data = pd.DataFrame(data = principal_components)"
   ]
  },
  {
   "cell_type": "markdown",
   "metadata": {},
   "source": [
    "## Train Test Split"
   ]
  },
  {
   "cell_type": "code",
   "execution_count": 70,
   "metadata": {},
   "outputs": [],
   "source": [
    "x_train, x_test, y_train, y_test = train_test_split(reduced_data, label_data, random_state = 1, test_size = 0.2, stratify = label_data)"
   ]
  },
  {
   "cell_type": "markdown",
   "metadata": {},
   "source": [
    "## Using Support Vector Machine (SVM)"
   ]
  },
  {
   "cell_type": "code",
   "execution_count": 71,
   "metadata": {},
   "outputs": [
    {
     "name": "stdout",
     "output_type": "stream",
     "text": [
      "Accuracy of Support Vector Machine (SVM): 81.3953488372093%\n"
     ]
    },
    {
     "name": "stderr",
     "output_type": "stream",
     "text": [
      "C:\\Users\\pc\\AppData\\Local\\Programs\\Python\\Python39\\lib\\site-packages\\sklearn\\utils\\validation.py:63: DataConversionWarning: A column-vector y was passed when a 1d array was expected. Please change the shape of y to (n_samples, ), for example using ravel().\n",
      "  return f(*args, **kwargs)\n"
     ]
    }
   ],
   "source": [
    "svc = SVC(kernel = \"linear\")\n",
    "svc.fit(x_train, y_train)\n",
    "predictions = svc.predict(x_test)\n",
    "svc_half = accuracy_score(y_test, predictions) * 100\n",
    "print(f'Accuracy of Support Vector Machine (SVM): {svc_half}%')"
   ]
  },
  {
   "cell_type": "markdown",
   "metadata": {},
   "source": [
    "## Using Neural Network (Multilayer Perceptron Classifier)"
   ]
  },
  {
   "cell_type": "code",
   "execution_count": 72,
   "metadata": {},
   "outputs": [
    {
     "name": "stderr",
     "output_type": "stream",
     "text": [
      "C:\\Users\\pc\\AppData\\Local\\Programs\\Python\\Python39\\lib\\site-packages\\sklearn\\utils\\validation.py:63: DataConversionWarning: A column-vector y was passed when a 1d array was expected. Please change the shape of y to (n_samples, ), for example using ravel().\n",
      "  return f(*args, **kwargs)\n"
     ]
    },
    {
     "name": "stdout",
     "output_type": "stream",
     "text": [
      "Accuracy of Neural Network (Multilayer Perceptron Classifier): 86.04651162790698%\n"
     ]
    }
   ],
   "source": [
    "nnc = MLPClassifier(hidden_layer_sizes = (7), activation = \"relu\", max_iter = 3000)\n",
    "nnc.fit(x_train, y_train)\n",
    "predictions = nnc.predict(x_test)\n",
    "nnc_half = accuracy_score(y_test, predictions)*100\n",
    "print(f'Accuracy of Neural Network (Multilayer Perceptron Classifier): {nnc_half}%')"
   ]
  },
  {
   "cell_type": "markdown",
   "metadata": {},
   "source": [
    "## Using Random Forest"
   ]
  },
  {
   "cell_type": "code",
   "execution_count": 73,
   "metadata": {},
   "outputs": [
    {
     "name": "stderr",
     "output_type": "stream",
     "text": [
      "<ipython-input-73-0ad7b860f38b>:2: DataConversionWarning: A column-vector y was passed when a 1d array was expected. Please change the shape of y to (n_samples,), for example using ravel().\n",
      "  rfc.fit(x_train, y_train)\n"
     ]
    },
    {
     "name": "stdout",
     "output_type": "stream",
     "text": [
      "Accuracy of Random Forest: 88.37209302325581%\n"
     ]
    }
   ],
   "source": [
    "rfc = RandomForestClassifier(n_estimators = 50)\n",
    "rfc.fit(x_train, y_train)\n",
    "predictions = rfc.predict(x_test)\n",
    "rfc_half = accuracy_score(y_test, predictions)*100\n",
    "print(f'Accuracy of Random Forest: {rfc_half}%')"
   ]
  },
  {
   "cell_type": "markdown",
   "metadata": {},
   "source": [
    "## Bar Chart Comparison"
   ]
  },
  {
   "cell_type": "code",
   "execution_count": 83,
   "metadata": {},
   "outputs": [
    {
     "data": {
      "text/plain": [
       "Text(0.5, 1.0, 'Accuracy Percentage for Full Data')"
      ]
     },
     "execution_count": 83,
     "metadata": {},
     "output_type": "execute_result"
    },
    {
     "data": {
      "image/png": "[encoded data removed]",
      "text/plain": [
       "<Figure size 576x504 with 1 Axes>"
      ]
     },
     "metadata": {
      "needs_background": "light"
     },
     "output_type": "display_data"
    }
   ],
   "source": [
    "fig, ax = plt.subplots(figsize=(8, 7))\n",
    "ax.set_ylim([0, 100])\n",
    "ax.bar(['Support Machine Vector', 'Neural Network', 'Random Forest'], [svc_full, nnc_full, rfc_full], color = 'C0')\n",
    "ax.set_title(\"Accuracy Percentage for Full Data\")"
   ]
  },
  {
   "cell_type": "code",
   "execution_count": 82,
   "metadata": {},
   "outputs": [
    {
     "data": {
      "text/plain": [
       "Text(0.5, 1.0, 'Accuracy Percentage for Reduced Data')"
      ]
     },
     "execution_count": 82,
     "metadata": {},
     "output_type": "execute_result"
    },
    {
     "data": {
      "image/png": "[encoded data removed]",
      "text/plain": [
       "<Figure size 576x504 with 1 Axes>"
      ]
     },
     "metadata": {
      "needs_background": "light"
     },
     "output_type": "display_data"
    }
   ],
   "source": [
    "fig, ax = plt.subplots(figsize=(8, 7))\n",
    "ax.set_ylim([0, 100])\n",
    "ax.bar(['Support Machine Vector', 'Neural Network', 'Random Forest'], [svc_half, nnc_half, rfc_half], color = 'C1')\n",
    "ax.set_title(\"Accuracy Percentage for Reduced Data\")"
   ]
  },
  {
   "cell_type": "code",
   "execution_count": 86,
   "metadata": {},
   "outputs": [
    {
     "data": {
      "image/png": "[encoded data removed]",
      "text/plain": [
       "<Figure size 720x720 with 1 Axes>"
      ]
     },
     "metadata": {
      "needs_background": "light"
     },
     "output_type": "display_data"
    }
   ],
   "source": [
    "plt.figure(num=None, figsize=(10, 10))\n",
    "y = np.arange(3)\n",
    "plt.bar(y - 0.1, [svc_full, nnc_full, rfc_full], width=0.2, color = 'C0')\n",
    "plt.bar(y + 0.1, [svc_half, nnc_half, rfc_half], width=0.2, color = 'C1')\n",
    "plt.xticks(y, ['Support Machine Vector', 'Neural Network', 'Random Forest'])\n",
    "plt.ylim((0, 100))\n",
    "plt.legend(('Full Label Data','Reduced Label Data'))\n",
    "plt.title(\"Accuracy Percentage Comparision\")\n",
    "plt.show()"
   ]
  }
 ],
 "metadata": {
  "interpreter": {
   "hash": "e885cd74143ad494932267455ab53278514454996393c47fe6c2589217b9edf3"
  },
  "kernelspec": {
   "display_name": "Python 3.9.4 64-bit",
   "name": "python3"
  },
  "language_info": {
   "codemirror_mode": {
    "name": "ipython",
    "version": 3
   },
   "file_extension": ".py",
   "mimetype": "text/x-python",
   "name": "python",
   "nbconvert_exporter": "python",
   "pygments_lexer": "ipython3",
   "version": "3.9.4"
  },
  "orig_nbformat": 4
 },
 "nbformat": 4,
 "nbformat_minor": 2
}
